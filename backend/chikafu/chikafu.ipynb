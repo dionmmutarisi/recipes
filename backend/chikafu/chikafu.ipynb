{
 "cells": [
  {
   "cell_type": "code",
   "execution_count": 1,
   "id": "b2b9ff78",
   "metadata": {},
   "outputs": [
    {
     "name": "stderr",
     "output_type": "stream",
     "text": [
      "/opt/anaconda3/envs/lubano-env/lib/python3.11/site-packages/requests/__init__.py:86: RequestsDependencyWarning: Unable to find acceptable character detection dependency (chardet or charset_normalizer).\n",
      "  warnings.warn(\n",
      "/opt/anaconda3/envs/lubano-env/lib/python3.11/site-packages/tqdm/auto.py:21: TqdmWarning: IProgress not found. Please update jupyter and ipywidgets. See https://ipywidgets.readthedocs.io/en/stable/user_install.html\n",
      "  from .autonotebook import tqdm as notebook_tqdm\n"
     ]
    }
   ],
   "source": [
    "import os\n",
    "import google.generativeai as genai\n",
    "from dotenv import load_dotenv\n",
    "\n",
    "load_dotenv()\n",
    "API_KEY: str = os.getenv(\"GEMINI_API_KEY\")\n",
    "genai.configure(api_key=API_KEY)\n",
    "\n",
    "model = genai.GenerativeModel('gemini-2.5-flash')\n",
    "\n",
    "\n",
    "def get_recipe(cuisine, \n",
    "               serving, \n",
    "               ingredients, \n",
    "               time, \n",
    "               budget) -> str:\n",
    "    \"\"\"\n",
    "    Generates a recipe using the gemini API.\n",
    "    The function constructs a prompt to generate a creative recipe.\n",
    "    Args: \n",
    "        cuisine:, \n",
    "        serving:, \n",
    "        ingredients, \n",
    "        time, \n",
    "        budget\n",
    "    \"\"\"\n",
    "\n",
    "    prompt = (f\"Give me one creative recipe, cuisine:{cuisine}, serving: {serving} ingredients: {ingredients}, time {time}, budget: {budget}\"\n",
    "              )\n",
    "\n",
    "    try:\n",
    "        response = model.generate_content(prompt)\n",
    "        text = response.text.strip()\n",
    "        return text\n",
    "    except Exception as e:\n",
    "        raise RuntimeError(f\"Gemini API Error: {e}\")"
   ]
  },
  {
   "cell_type": "code",
   "execution_count": 2,
   "id": "8e1802ee",
   "metadata": {},
   "outputs": [
    {
     "data": {
      "text/plain": [
       "'Here\\'s a creative American recipe that combines all your ingredients into a comforting, satisfying, and quick meal!\\n\\n---\\n\\n## **The \"Hearty Harvest\" Grilled Cheese & Rice Pocket**\\n\\nThis recipe takes the classic American grilled cheese and elevates it with a savory, cheesy rice and salami stuffing, served alongside fresh, crisp lettuce for balance. It\\'s warm, comforting, and surprisingly filling!\\n\\n**Cuisine:** American\\n**Serving:** 2\\n**Time:** 30 minutes\\n**Budget:** Low\\n\\n**Ingredients:**\\n\\n*   4 slices of your favorite bread (sourdough, white, or hearty whole wheat work best)\\n*   1 cup cooked rice (leftover cooked rice is perfect!)\\n*   4-6 slices of salami, finely diced\\n*   1 cup shredded cheese (Cheddar, Monterey Jack, Colby, or a blend)\\n*   2-3 tablespoons butter (for grilling the bread)\\n*   1/2 cup fresh lettuce, shredded or torn\\n*   Salt and black pepper to taste\\n*   *Optional:* A pinch of garlic powder or onion powder for the rice mixture\\n\\n**Instructions (Approx. 25-30 minutes):**\\n\\n1.  **Prep the Filling (5-7 minutes):**\\n    *   In a medium bowl, combine the cooked rice, finely diced salami, and **half (1/2 cup)** of the shredded cheese.\\n    *   Season with a pinch of salt and black pepper. If using, add a pinch of garlic powder or onion powder for extra flavor. Mix everything together well.\\n\\n2.  **Assemble the Pockets (5-7 minutes):**\\n    *   Generously butter one side of each of the four bread slices.\\n    *   Place two slices of bread, butter-side down, on a clean surface or cutting board.\\n    *   Sprinkle about **1/4 cup** of the *remaining* shredded cheese over each of these two unbuttered bread slices.\\n    *   Divide the rice-salami mixture evenly between these two slices, mounding it slightly in the center. Don\\'t overfill!\\n    *   Top the rice mixture with the last **1/4 cup** of shredded cheese, ensuring some cheese is on top of the rice to help bind and melt.\\n    *   Place the other two buttered bread slices on top, butter-side up, forming your two sandwiches.\\n\\n3.  **Grill the Pockets (10-12 minutes):**\\n    *   Heat a large non-stick skillet or griddle over **medium heat**.\\n    *   Carefully transfer the assembled grilled cheese pockets to the hot skillet.\\n    *   Cook for 4-6 minutes per side, or until the bread is beautifully golden brown and crispy, and the cheese inside is fully melted and gooey. You might need to gently press down on the sandwiches with a spatula to ensure even contact with the pan and good melting.\\n\\n4.  **Serve (2 minutes):**\\n    *   Remove the \"Hearty Harvest\" Grilled Cheese & Rice Pockets from the skillet. Let them rest for just a minute to allow the cheese to set slightly.\\n    *   Slice each pocket in half (diagonally is classic!).\\n    *   Serve immediately alongside the fresh shredded lettuce. For an extra cool crunch, you can even tuck some of the lettuce inside the warm pocket just before eating!\\n\\nEnjoy your creative, hearty, and budget-friendly American meal!'"
      ]
     },
     "execution_count": 2,
     "metadata": {},
     "output_type": "execute_result"
    }
   ],
   "source": [
    "get_recipe('american', '2', 'bread,cheese, salami, lettuce, cooked rice', '30 minutes', 'low budget')"
   ]
  },
  {
   "cell_type": "markdown",
   "id": "e0c6fbd2",
   "metadata": {},
   "source": []
  },
  {
   "cell_type": "markdown",
   "id": "a9b3643b",
   "metadata": {},
   "source": [
    "'Here\\'s a creative American recipe that combines all your ingredients into a comforting, satisfying, and quick meal!\\n\\n---\\n\\n## **The \"Hearty Harvest\" Grilled Cheese & Rice Pocket**\\n\\nThis recipe takes the classic American grilled cheese and elevates it with a savory, cheesy rice and salami stuffing, served alongside fresh, crisp lettuce for balance. It\\'s warm, comforting, and surprisingly filling!\\n\\n**Cuisine:** American\\n**Serving:** 2\\n**Time:** 30 minutes\\n**Budget:** Low\\n\\n**Ingredients:**\\n\\n*   4 slices of your favorite bread (sourdough, white, or hearty whole wheat work best)\\n*   1 cup cooked rice (leftover cooked rice is perfect!)\\n*   4-6 slices of salami, finely diced\\n*   1 cup shredded cheese (Cheddar, Monterey Jack, Colby, or a blend)\\n*   2-3 tablespoons butter (for grilling the bread)\\n*   1/2 cup fresh lettuce, shredded or torn\\n*   Salt and black pepper to taste\\n*   *Optional:* A pinch of garlic powder or onion powder for the rice mixture\\n\\n**Instructions (Approx. 25-30 minutes):**\\n\\n1.  **Prep the Filling (5-7 minutes):**\\n    *   In a medium bowl, combine the cooked rice, finely diced salami, and **half (1/2 cup)** of the shredded cheese.\\n    *   Season with a pinch of salt and black pepper. If using, add a pinch of garlic powder or onion powder for extra flavor. Mix everything together well.\\n\\n2.  **Assemble the Pockets (5-7 minutes):**\\n    *   Generously butter one side of each of the four bread slices.\\n    *   Place two slices of bread, butter-side down, on a clean surface or cutting board.\\n    *   Sprinkle about **1/4 cup** of the *remaining* shredded cheese over each of these two unbuttered bread slices.\\n    *   Divide the rice-salami mixture evenly between these two slices, mounding it slightly in the center. Don\\'t overfill!\\n    *   Top the rice mixture with the last **1/4 cup** of shredded cheese, ensuring some cheese is on top of the rice to help bind and melt.\\n    *   Place the other two buttered bread slices on top, butter-side up, forming your two sandwiches.\\n\\n3.  **Grill the Pockets (10-12 minutes):**\\n    *   Heat a large non-stick skillet or griddle over **medium heat**.\\n    *   Carefully transfer the assembled grilled cheese pockets to the hot skillet.\\n    *   Cook for 4-6 minutes per side, or until the bread is beautifully golden brown and crispy, and the cheese inside is fully melted and gooey. You might need to gently press down on the sandwiches with a spatula to ensure even contact with the pan and good melting.\\n\\n4.  **Serve (2 minutes):**\\n    *   Remove the \"Hearty Harvest\" Grilled Cheese & Rice Pockets from the skillet. Let them rest for just a minute to allow the cheese to set slightly.\\n    *   Slice each pocket in half (diagonally is classic!).\\n    *   Serve immediately alongside the fresh shredded lettuce. For an extra cool crunch, you can even tuck some of the lettuce inside the warm pocket just before eating!\\n\\nEnjoy your creative, hearty, and budget-friendly American meal!'"
   ]
  }
 ],
 "metadata": {
  "kernelspec": {
   "display_name": "lubano-env",
   "language": "python",
   "name": "python3"
  },
  "language_info": {
   "codemirror_mode": {
    "name": "ipython",
    "version": 3
   },
   "file_extension": ".py",
   "mimetype": "text/x-python",
   "name": "python",
   "nbconvert_exporter": "python",
   "pygments_lexer": "ipython3",
   "version": "3.11.13"
  }
 },
 "nbformat": 4,
 "nbformat_minor": 5
}
